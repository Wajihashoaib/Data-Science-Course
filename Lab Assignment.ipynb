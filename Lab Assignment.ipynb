{
 "cells": [
  {
   "cell_type": "markdown",
   "id": "a4a1cd3a",
   "metadata": {},
   "source": [
    "# Question 01"
   ]
  },
  {
   "cell_type": "markdown",
   "id": "15815ccb",
   "metadata": {},
   "source": [
    "Write a Python program which accepts the radius list of a circle from the user and\n",
    "computes the areas then returns the max area + area list.\n",
    "Function Name = def area(x,3.14):\n",
    "Output = area list , max area ([23,4,1],23)"
   ]
  },
  {
   "cell_type": "code",
   "execution_count": 1,
   "id": "d9dedfb1",
   "metadata": {},
   "outputs": [],
   "source": [
    "def area(x):\n",
    "    pi = 3.14\n",
    "    c_area = []\n",
    "    for i in range(len(x)):\n",
    "        c_area += [pi*float(x[i])**2]\n",
    "    a_max = max(c_area)\n",
    "    return c_area, a_max"
   ]
  },
  {
   "cell_type": "code",
   "execution_count": 2,
   "id": "852aa6bd",
   "metadata": {},
   "outputs": [
    {
     "data": {
      "text/plain": [
       "([314.0, 12.56, 28.26, 50.24, 113.04, 78.5], 314.0)"
      ]
     },
     "execution_count": 2,
     "metadata": {},
     "output_type": "execute_result"
    }
   ],
   "source": [
    "y = [10,2,3,4,6,5]\n",
    "area(y)"
   ]
  },
  {
   "cell_type": "markdown",
   "id": "12958f60",
   "metadata": {},
   "source": [
    "# Question 02"
   ]
  },
  {
   "cell_type": "markdown",
   "id": "f1e43d9d",
   "metadata": {},
   "source": [
    "Write a Python program to calculate the sum of three given numbers, if the values are\n",
    "equal then return thrice of their sum and also check even odd for each parameter return\n",
    "in a list format.\n",
    "Function Name = def addition_thrice(x, y, z):\n",
    "Output = sum, evenOdd list (23,[even,odd,even])"
   ]
  },
  {
   "cell_type": "code",
   "execution_count": 7,
   "id": "1b97c556",
   "metadata": {},
   "outputs": [],
   "source": [
    "def addition_thrice(x,y,z):\n",
    "    if x == y == z:\n",
    "        sum3 = 3*(x+y+z)\n",
    "    else:\n",
    "        sum3 = x+y+z\n",
    "    List = []\n",
    "    for i in x,y,z:\n",
    "        if i%2:\n",
    "            List += [\"Odd\"]\n",
    "        else:\n",
    "            List += [\"Even\"]\n",
    "        \n",
    "    return sum3,List"
   ]
  },
  {
   "cell_type": "code",
   "execution_count": 8,
   "id": "5fcb9af7",
   "metadata": {},
   "outputs": [
    {
     "data": {
      "text/plain": [
       "(14, ['Even', 'Odd', 'Odd'])"
      ]
     },
     "execution_count": 8,
     "metadata": {},
     "output_type": "execute_result"
    }
   ],
   "source": [
    "addition_thrice(2,3,9)"
   ]
  },
  {
   "cell_type": "markdown",
   "id": "93bc8544",
   "metadata": {},
   "source": [
    "# Question 03"
   ]
  },
  {
   "cell_type": "markdown",
   "id": "4cc419fb",
   "metadata": {},
   "source": [
    "Write a Python program to solve (a + b) * (a + b).\n",
    "Function Name = def problem(a,b):\n",
    "Output = result (23)"
   ]
  },
  {
   "cell_type": "code",
   "execution_count": 11,
   "id": "ec9f61b8",
   "metadata": {},
   "outputs": [],
   "source": [
    "def problem(a, b):\n",
    "    result = a * a + 2 * a * b + b * b\n",
    "    return result"
   ]
  },
  {
   "cell_type": "code",
   "execution_count": 13,
   "id": "5b57d201",
   "metadata": {},
   "outputs": [
    {
     "name": "stdout",
     "output_type": "stream",
     "text": [
      "25\n"
     ]
    }
   ],
   "source": [
    "print(problem(2,3))"
   ]
  },
  {
   "cell_type": "markdown",
   "id": "405e245d",
   "metadata": {},
   "source": [
    "# Question 04"
   ]
  },
  {
   "cell_type": "markdown",
   "id": "5d5cefaf",
   "metadata": {},
   "source": [
    "Write a Python program to check a palindrome string with the help of startswith or\n",
    "endwith built-in Function.\n",
    "Function Name = def palindrome(word):\n",
    "Output = result (valid) (madam)"
   ]
  },
  {
   "cell_type": "code",
   "execution_count": 17,
   "id": "d76d478e",
   "metadata": {},
   "outputs": [
    {
     "data": {
      "text/plain": [
       "('Valid', 'madam')"
      ]
     },
     "execution_count": 17,
     "metadata": {},
     "output_type": "execute_result"
    }
   ],
   "source": [
    "def palindrome(word):\n",
    "    hlen = int(len(word)/2)\n",
    "    if word[:hlen].startswith(word[:-hlen-1:-1]):\n",
    "        return \"Valid\", word\n",
    "    else:\n",
    "        return \"Invalid\", word\n",
    "    \n",
    "palindrome('madam')"
   ]
  }
 ],
 "metadata": {
  "kernelspec": {
   "display_name": "Python 3 (ipykernel)",
   "language": "python",
   "name": "python3"
  },
  "language_info": {
   "codemirror_mode": {
    "name": "ipython",
    "version": 3
   },
   "file_extension": ".py",
   "mimetype": "text/x-python",
   "name": "python",
   "nbconvert_exporter": "python",
   "pygments_lexer": "ipython3",
   "version": "3.10.4"
  }
 },
 "nbformat": 4,
 "nbformat_minor": 5
}
