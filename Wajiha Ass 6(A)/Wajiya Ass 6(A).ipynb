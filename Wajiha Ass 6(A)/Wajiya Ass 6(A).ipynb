{
 "cells": [
  {
   "cell_type": "markdown",
   "id": "17b2a281",
   "metadata": {},
   "source": [
    "# Assignment 6(A)"
   ]
  },
  {
   "cell_type": "markdown",
   "id": "831ec688",
   "metadata": {},
   "source": [
    "dentify Fake Ip's and generate Day1_Log.txt file."
   ]
  },
  {
   "cell_type": "markdown",
   "id": "4475ffbf",
   "metadata": {},
   "source": [
    "# Importing Libraries"
   ]
  },
  {
   "cell_type": "code",
   "execution_count": 13,
   "id": "d3d912da",
   "metadata": {},
   "outputs": [],
   "source": [
    "import pandas as pd"
   ]
  },
  {
   "cell_type": "markdown",
   "id": "59fa5be2",
   "metadata": {},
   "source": [
    "# Function to generate Fake_ips and store in Text File"
   ]
  },
  {
   "cell_type": "code",
   "execution_count": 22,
   "id": "8989669d",
   "metadata": {},
   "outputs": [],
   "source": [
    "def fake_ips(mul_files , txt_file):\n",
    "    #mul_files parameter as a input and txt_file(Day1_log.txt) as output parameter\n",
    "    with open('Day1_log.txt' , 'w', newline='') as outfile:\n",
    "        for filename in mul_files:\n",
    "            with open(filename) as infile:\n",
    "                outfile.write(infile.read())\n",
    "                #Read content and then write in outfile\n",
    "        outfile.write(\"\\n\")\n",
    "        #For new line\n",
    "    file = open(\"Day1_log.txt\",\"r\")\n",
    "    #open file in reading mode\n",
    "    data = file.read()\n",
    "    #reading data\n",
    "    words = data.split()\n",
    "    #split into words\n",
    "    list =[]\n",
    "    for word in words:\n",
    "        if word[0:3] != '192':\n",
    "            #iterate till index 2 (0-1-2) and check pattern \n",
    "            #if not equal then it is fake\n",
    "            list.append(word)\n",
    "            #storing fake ip is list using append\n",
    "            with open(txt_file , 'w') as f:\n",
    "                for items in list:\n",
    "                    f.write('%s\\n' %items)\n",
    "            #converting list in to text file\n",
    "            f.close()\n",
    "                    \n",
    "mul_files = ['net_1.txt','net_2.txt','net_3.txt','net_4.txt','net_5.txt',\n",
    "             'net_6.txt','net_7.txt','net_8.txt','net_9.txt','net_10.txt',\n",
    "             'net_11.txt','net_12.txt','net_13.txt','net_14.txt','net_15.txt',\n",
    "             'net_16.txt','net_17.txt','net_18.txt','net_19.txt','net_20.txt']\n",
    "\n",
    "txt_file = 'Day1_log.txt'\n",
    "\n",
    "fake_ips(mul_files , txt_file)"
   ]
  }
 ],
 "metadata": {
  "kernelspec": {
   "display_name": "Python 3 (ipykernel)",
   "language": "python",
   "name": "python3"
  },
  "language_info": {
   "codemirror_mode": {
    "name": "ipython",
    "version": 3
   },
   "file_extension": ".py",
   "mimetype": "text/x-python",
   "name": "python",
   "nbconvert_exporter": "python",
   "pygments_lexer": "ipython3",
   "version": "3.10.4"
  }
 },
 "nbformat": 4,
 "nbformat_minor": 5
}
