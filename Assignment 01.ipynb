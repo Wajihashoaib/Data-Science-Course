{
 "cells": [
  {
   "cell_type": "code",
   "execution_count": 3,
   "id": "55e916dd",
   "metadata": {},
   "outputs": [
    {
     "name": "stdout",
     "output_type": "stream",
     "text": [
      "Program 04\n",
      "\n",
      "Enter value of radius: 1.00\n",
      "The area of the circle =  3.1472\n"
     ]
    }
   ],
   "source": [
    "print(\"Program 04\\n\");\n",
    "Radius = float(input(\"Enter value of radius: \"));\n",
    "print(\"The area of the circle = \", (3.1472*Radius*Radius));"
   ]
  },
  {
   "cell_type": "code",
   "execution_count": 4,
   "id": "1a9ee943",
   "metadata": {},
   "outputs": [
    {
     "name": "stdout",
     "output_type": "stream",
     "text": [
      "Program 03\n",
      "\n",
      "Current date and time : 2021-12-31 20 12 27\n"
     ]
    }
   ],
   "source": [
    "import datetime;\n",
    "print(\"Program 03\\n\")\n",
    "current = datetime.datetime.now();\n",
    "print(\"Current date and time :\", current.strftime(\"%Y-%m-%d %H %M %S\"));"
   ]
  },
  {
   "cell_type": "code",
   "execution_count": 5,
   "id": "6742a416",
   "metadata": {},
   "outputs": [
    {
     "name": "stdout",
     "output_type": "stream",
     "text": [
      "Program 02\n",
      "\n",
      "Python version is: 3.10.1\n"
     ]
    }
   ],
   "source": [
    "print(\"Program 02\\n\");\n",
    "import platform \n",
    "#import is a keyword  and platform is a module to get python version\n",
    "print( \"Python version is:\" , platform.python_version());"
   ]
  },
  {
   "cell_type": "code",
   "execution_count": 6,
   "id": "665765dd",
   "metadata": {},
   "outputs": [
    {
     "name": "stdout",
     "output_type": "stream",
     "text": [
      "Program 01\n",
      "\n",
      "Twinkle, twinkle, little star,\n",
      "\t How I wonder what you are!\n",
      "\t\tUp above the world so high,\n",
      "\t\tLike a diamond in the sky.\n",
      "Twinkle, twinkle, little star,\n",
      "\t How I wonder what you are!\n",
      "\n"
     ]
    }
   ],
   "source": [
    "print(\"Program 01\\n\");\n",
    "print(\"Twinkle, twinkle, little star,\");\n",
    "print(\"\\t How I wonder what you are!\");\n",
    "print(\"\\t\\tUp above the world so high,\");\n",
    "print(\"\\t\\tLike a diamond in the sky.\");\n",
    "print(\"Twinkle, twinkle, little star,\");\n",
    "print(\"\\t How I wonder what you are!\\n\");"
   ]
  },
  {
   "cell_type": "code",
   "execution_count": 8,
   "id": "388ba85e",
   "metadata": {},
   "outputs": [
    {
     "name": "stdout",
     "output_type": "stream",
     "text": [
      "Program 05\n",
      "\n",
      "Enter your first name :wajiha\n",
      "Enter your Last name : shoain\n",
      "shoain wajiha\n"
     ]
    }
   ],
   "source": [
    "print(\"Program 05\\n\");\n",
    "Firstname = (input(\"Enter your first name :\"));\n",
    "Lastname = (input(\"Enter your Last name : \"));\n",
    "print(Lastname +\" \"+Firstname );"
   ]
  },
  {
   "cell_type": "code",
   "execution_count": 11,
   "id": "1799a1bb",
   "metadata": {},
   "outputs": [
    {
     "name": "stdout",
     "output_type": "stream",
     "text": [
      "Program 06\n",
      "\n",
      "Enter first value : 3\n",
      "Enter last value : 2\n",
      "The addition of entered numbers is : 5\n"
     ]
    }
   ],
   "source": [
    "print(\"Program 06\\n\");\n",
    "first= int(input(\"Enter first value : \"));\n",
    "last= int(input(\"Enter last value : \"));\n",
    "sum = first+last;\n",
    "print(\"The addition of entered numbers is :\",sum);"
   ]
  },
  {
   "cell_type": "code",
   "execution_count": null,
   "id": "7d3fb90c",
   "metadata": {},
   "outputs": [],
   "source": []
  }
 ],
 "metadata": {
  "kernelspec": {
   "display_name": "Python 3 (ipykernel)",
   "language": "python",
   "name": "python3"
  },
  "language_info": {
   "codemirror_mode": {
    "name": "ipython",
    "version": 3
   },
   "file_extension": ".py",
   "mimetype": "text/x-python",
   "name": "python",
   "nbconvert_exporter": "python",
   "pygments_lexer": "ipython3",
   "version": "3.10.1"
  }
 },
 "nbformat": 4,
 "nbformat_minor": 5
}
