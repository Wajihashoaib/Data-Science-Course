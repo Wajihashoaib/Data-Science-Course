import pandas as pd

import json

from google.colab import files

csv_file = pd.read_csv('Server_data.csv')
#reading csv_file


col_names = list(csv_file.columns)
#converting column names in list


dic = {'Networks' : col_names}
#dict-----> network as 'key' and list of col_names as 'value'

with open('Json_file.json' , 'w') as file:
  json.dump(dic , file)
#creating json file



files.download('Json_file.json')
# download the json file