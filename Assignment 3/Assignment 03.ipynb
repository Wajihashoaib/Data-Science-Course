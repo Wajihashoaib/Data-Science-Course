{
 "cells": [
  {
   "cell_type": "code",
   "execution_count": 1,
   "id": "89c9c0cf",
   "metadata": {},
   "outputs": [],
   "source": [
    "import csv\n",
    "import pandas as pd"
   ]
  },
  {
   "cell_type": "code",
   "execution_count": 2,
   "id": "cc70b115",
   "metadata": {},
   "outputs": [],
   "source": [
    "mul_files = ['net_1.txt','net_2.txt','net_3.txt','net_4.txt','net_5.txt',\n",
    "             'net_6.txt','net_7.txt','net_8.txt','net_9.txt','net_10.txt',\n",
    "             'net_11.txt','net_12.txt','net_13.txt','net_14.txt','net_15.txt',\n",
    "             'net_16.txt','net_17.txt','net_18.txt','net_19.txt','net_20.txt']"
   ]
  },
  {
   "cell_type": "markdown",
   "id": "f0788d50",
   "metadata": {},
   "source": [
    "# Function to Convert text file to json"
   ]
  },
  {
   "cell_type": "code",
   "execution_count": 3,
   "id": "380e738b",
   "metadata": {},
   "outputs": [],
   "source": [
    "def txt_json(files):\n",
    "    with open('SingleFile.txt', 'w') as outfile:\n",
    "        for names in mul_files:\n",
    "             # Iterate through mul_files list\n",
    "            with open(names) as infile:\n",
    "                outfile.write(infile.read())\n",
    "            # Add '\\n' to enter data from next line\n",
    "        outfile.write(\"\\n\")\n",
    "txt_json(mul_files)"
   ]
  },
  {
   "cell_type": "markdown",
   "id": "5dda55e7",
   "metadata": {},
   "source": [
    "# Function: text_files in csv_file columns Using file name as column name"
   ]
  },
  {
   "cell_type": "code",
   "execution_count": 4,
   "id": "a60e30b0",
   "metadata": {},
   "outputs": [],
   "source": [
    "def txt_csv_column(mul_files):\n",
    "    List = []\n",
    "    for file in mul_files:\n",
    "        col_Names = file.split('.')[0]\n",
    "        #Sepearte file name till (.)\n",
    "        List.append(pd.read_csv(file , names = [col_Names]))\n",
    "        #Generate List of files and column name\n",
    "    csv_file = pd.concat(List, axis = 1)\n",
    "    csv_file.to_csv('Server_data_file.csv' , index = False)\n",
    "txt_csv_column(mul_files)"
   ]
  }
 ],
 "metadata": {
  "kernelspec": {
   "display_name": "Python 3 (ipykernel)",
   "language": "python",
   "name": "python3"
  },
  "language_info": {
   "codemirror_mode": {
    "name": "ipython",
    "version": 3
   },
   "file_extension": ".py",
   "mimetype": "text/x-python",
   "name": "python",
   "nbconvert_exporter": "python",
   "pygments_lexer": "ipython3",
   "version": "3.10.4"
  }
 },
 "nbformat": 4,
 "nbformat_minor": 5
}
