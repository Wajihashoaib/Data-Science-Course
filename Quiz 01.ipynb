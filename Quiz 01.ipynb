{
 "cells": [
  {
   "cell_type": "markdown",
   "id": "1fedaa7c",
   "metadata": {},
   "source": [
    "# Code For Self Car Driving Monitoring System \n",
    "\n",
    "(Detect Obstacles and Check Distance)"
   ]
  },
  {
   "cell_type": "code",
   "execution_count": 2,
   "id": "9dff837e",
   "metadata": {},
   "outputs": [],
   "source": [
    "def SelfDriving_MonitoringSensor(distanceRange,detectObjectIndex,position):\n",
    "    result = [0,1]\n",
    "    temp = result.copy()                         #storing value of result in temp\n",
    "    for index in range(2,distanceRange):\n",
    "        temp += [temp[index-1] + temp[index-2]]  # Generating Fibonacci sequence      \n",
    "        if index >= detectObjectIndex and position == 'start':\n",
    "            result += [temp[index]+1]\n",
    "        elif index >= detectObjectIndex and position == 'end':\n",
    "            result += [temp[index]-1]\n",
    "        else:\n",
    "            result += [temp[index]]\n",
    "    return result"
   ]
  },
  {
   "cell_type": "code",
   "execution_count": 3,
   "id": "3a0f87bb",
   "metadata": {},
   "outputs": [
    {
     "name": "stdout",
     "output_type": "stream",
     "text": [
      "[0, 1, 1, 2, 3, 5, 8, 13, 21, 34, 55, 89, 144, 233, 377]\n",
      "[0, 1, 1, 2, 3, 5, 8, 14, 22, 35, 56, 90, 145, 234, 378]\n",
      "[0, 1, 1, 2, 3, 5, 8, 12, 20, 33, 54, 88, 143, 232, 376]\n"
     ]
    }
   ],
   "source": [
    "print(SelfDriving_MonitoringSensor(15,0,\"none\")) #Fibonacci sequence of 15 elements\n",
    "print(SelfDriving_MonitoringSensor(15,7,\"start\")) #start adding 1 from 7th index\n",
    "print(SelfDriving_MonitoringSensor(15,7,\"end\")) #start subtracting 1 from 7th index\n"
   ]
  },
  {
   "cell_type": "code",
   "execution_count": null,
   "id": "56b4deac",
   "metadata": {},
   "outputs": [],
   "source": []
  }
 ],
 "metadata": {
  "kernelspec": {
   "display_name": "Python 3 (ipykernel)",
   "language": "python",
   "name": "python3"
  },
  "language_info": {
   "codemirror_mode": {
    "name": "ipython",
    "version": 3
   },
   "file_extension": ".py",
   "mimetype": "text/x-python",
   "name": "python",
   "nbconvert_exporter": "python",
   "pygments_lexer": "ipython3",
   "version": "3.10.4"
  }
 },
 "nbformat": 4,
 "nbformat_minor": 5
}
