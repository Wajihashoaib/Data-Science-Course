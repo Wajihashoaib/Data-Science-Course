{
 "cells": [
  {
   "cell_type": "markdown",
   "id": "48fcbf0c",
   "metadata": {},
   "source": [
    "# Assignment 6B "
   ]
  },
  {
   "cell_type": "markdown",
   "id": "42fc4d50",
   "metadata": {},
   "source": [
    "Identify missing ips against fake ips and server room vise generate two files"
   ]
  },
  {
   "cell_type": "markdown",
   "id": "61e76e89",
   "metadata": {},
   "source": [
    "# Importing Libraries"
   ]
  },
  {
   "cell_type": "code",
   "execution_count": 2,
   "id": "8d1fa300",
   "metadata": {},
   "outputs": [],
   "source": [
    "import os\n",
    "import csv"
   ]
  },
  {
   "cell_type": "markdown",
   "id": "8612b233",
   "metadata": {},
   "source": [
    "# Initialization "
   ]
  },
  {
   "cell_type": "code",
   "execution_count": 3,
   "id": "9b3a788e",
   "metadata": {},
   "outputs": [],
   "source": [
    "mul_files =['net_1.txt','net_2.txt','net_3.txt','net_4.txt','net_5.txt','net_6.txt',\n",
    "            'net_7.txt','net_8.txt','net_9.txt','net_10.txt','net_11.txt','net_12.txt',\n",
    "            'net_13.txt','net_14.txt','net_15.txt','net_16.txt','net_17.txt','net_18.txt',\n",
    "            'net_19.txt','net_20.txt']"
   ]
  },
  {
   "cell_type": "markdown",
   "id": "af804c8f",
   "metadata": {},
   "source": [
    "# Main Code"
   ]
  },
  {
   "cell_type": "code",
   "execution_count": 5,
   "id": "110aba0f",
   "metadata": {},
   "outputs": [],
   "source": [
    "No_Total_lines = 10 #No of total ips in one file\n",
    "line =1\n",
    "for Name in mul_files:\n",
    "    with open(Name) as File:\n",
    "        content = File.readlines()\n",
    "        Fake_Ips = open(os.path.splitext(File.name)[0]+'_F_Ips.txt', 'w', newline='')\n",
    "        #os.path.splitext (Method of Operating system module)\n",
    "        #split the name and extension and add fake.txt with file name ##net1fakeIps.txt\n",
    "        Missing_Ips = open(os.path.splitext(File.name)[0]+'_M_Ips.txt', 'w', newline='')\n",
    "        #split the name and extension and add missingIps.txt with file name ##net1missingIps.txt\n",
    "        Ip = 1\n",
    "        for word in content:\n",
    "            if line < No_Total_lines:\n",
    "                if word[0:10] != \"192.168.\"+str(line)+\".\":\n",
    "                    #check the index through 0-10\n",
    "                    Fake_Ips.writelines(word)\n",
    "                    #if fake ip found such as 72.178 or else it will append in Fake_ips file.\n",
    "                    Missing_Ips.writelines(\"192.168.\"+str(line)+\".\"+str(Ip)+\"\\n\")\n",
    "            else:\n",
    "                if word[0:11] != \"192.168.\"+str(line)+\".\":\n",
    "                     #check the index through 0-11\n",
    "                    Fake_Ips.writelines(word)\n",
    "                    #if fake ip found such as 72.178 or else it will append in Fake_ips file\n",
    "                    Missing_Ips.writelines(\"192.168.\"+str(line)+\".\"+str(Ip)+\"\\n\")\n",
    "            Ip += 1 #increment in Ip means 192.168.3.1/3.2/3.3 and so on.\n",
    "        line += 1 #increment in line means 192.168.3.1/4.1/5.1 and so on."
   ]
  }
 ],
 "metadata": {
  "kernelspec": {
   "display_name": "Python 3 (ipykernel)",
   "language": "python",
   "name": "python3"
  },
  "language_info": {
   "codemirror_mode": {
    "name": "ipython",
    "version": 3
   },
   "file_extension": ".py",
   "mimetype": "text/x-python",
   "name": "python",
   "nbconvert_exporter": "python",
   "pygments_lexer": "ipython3",
   "version": "3.10.4"
  }
 },
 "nbformat": 4,
 "nbformat_minor": 5
}
